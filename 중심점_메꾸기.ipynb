{
 "cells": [
  {
   "cell_type": "code",
   "execution_count": 82,
   "id": "20c28038",
   "metadata": {},
   "outputs": [],
   "source": [
    "import numpy as np\n",
    "import pandas as pd"
   ]
  },
  {
   "cell_type": "markdown",
   "id": "83933613",
   "metadata": {},
   "source": [
    "## 1. 데이터 로드 & 중심점 없는 학습 지역 보기"
   ]
  },
  {
   "cell_type": "code",
   "execution_count": 83,
   "id": "a83b94c9",
   "metadata": {},
   "outputs": [
    {
     "data": {
      "text/html": [
       "<div>\n",
       "<style scoped>\n",
       "    .dataframe tbody tr th:only-of-type {\n",
       "        vertical-align: middle;\n",
       "    }\n",
       "\n",
       "    .dataframe tbody tr th {\n",
       "        vertical-align: top;\n",
       "    }\n",
       "\n",
       "    .dataframe thead th {\n",
       "        text-align: right;\n",
       "    }\n",
       "</style>\n",
       "<table border=\"1\" class=\"dataframe\">\n",
       "  <thead>\n",
       "    <tr style=\"text-align: right;\">\n",
       "      <th></th>\n",
       "      <th>시도</th>\n",
       "      <th>시군구</th>\n",
       "      <th>행정구역명</th>\n",
       "      <th>법정동</th>\n",
       "      <th>행정구역분류(개정_8자리)</th>\n",
       "      <th>법정동코드</th>\n",
       "      <th>중심점_x</th>\n",
       "      <th>중심점_y</th>\n",
       "    </tr>\n",
       "  </thead>\n",
       "  <tbody>\n",
       "    <tr>\n",
       "      <th>0</th>\n",
       "      <td>서울특별시</td>\n",
       "      <td>종로구</td>\n",
       "      <td>청운효자동</td>\n",
       "      <td>청운동</td>\n",
       "      <td>11010720</td>\n",
       "      <td>1111010100</td>\n",
       "      <td>953149.184527</td>\n",
       "      <td>1.954555e+06</td>\n",
       "    </tr>\n",
       "    <tr>\n",
       "      <th>1</th>\n",
       "      <td>서울특별시</td>\n",
       "      <td>종로구</td>\n",
       "      <td>청운효자동</td>\n",
       "      <td>신교동</td>\n",
       "      <td>11010720</td>\n",
       "      <td>1111010200</td>\n",
       "      <td>953024.187713</td>\n",
       "      <td>1.954035e+06</td>\n",
       "    </tr>\n",
       "    <tr>\n",
       "      <th>2</th>\n",
       "      <td>서울특별시</td>\n",
       "      <td>종로구</td>\n",
       "      <td>청운효자동</td>\n",
       "      <td>궁정동</td>\n",
       "      <td>11010720</td>\n",
       "      <td>1111010300</td>\n",
       "      <td>953444.997666</td>\n",
       "      <td>1.954054e+06</td>\n",
       "    </tr>\n",
       "    <tr>\n",
       "      <th>3</th>\n",
       "      <td>서울특별시</td>\n",
       "      <td>종로구</td>\n",
       "      <td>청운효자동</td>\n",
       "      <td>효자동</td>\n",
       "      <td>11010720</td>\n",
       "      <td>1111010400</td>\n",
       "      <td>953377.196082</td>\n",
       "      <td>1.953829e+06</td>\n",
       "    </tr>\n",
       "    <tr>\n",
       "      <th>4</th>\n",
       "      <td>서울특별시</td>\n",
       "      <td>종로구</td>\n",
       "      <td>청운효자동</td>\n",
       "      <td>창성동</td>\n",
       "      <td>11010720</td>\n",
       "      <td>1111010500</td>\n",
       "      <td>953421.941975</td>\n",
       "      <td>1.953595e+06</td>\n",
       "    </tr>\n",
       "  </tbody>\n",
       "</table>\n",
       "</div>"
      ],
      "text/plain": [
       "      시도  시군구  행정구역명  법정동  행정구역분류(개정_8자리)       법정동코드          중심점_x  \\\n",
       "0  서울특별시  종로구  청운효자동  청운동        11010720  1111010100  953149.184527   \n",
       "1  서울특별시  종로구  청운효자동  신교동        11010720  1111010200  953024.187713   \n",
       "2  서울특별시  종로구  청운효자동  궁정동        11010720  1111010300  953444.997666   \n",
       "3  서울특별시  종로구  청운효자동  효자동        11010720  1111010400  953377.196082   \n",
       "4  서울특별시  종로구  청운효자동  창성동        11010720  1111010500  953421.941975   \n",
       "\n",
       "          중심점_y  \n",
       "0  1.954555e+06  \n",
       "1  1.954035e+06  \n",
       "2  1.954054e+06  \n",
       "3  1.953829e+06  \n",
       "4  1.953595e+06  "
      ]
     },
     "execution_count": 83,
     "metadata": {},
     "output_type": "execute_result"
    }
   ],
   "source": [
    "df = pd.read_excel('전체_학습_지역_nullable.xlsx')\n",
    "df.head()"
   ]
  },
  {
   "cell_type": "code",
   "execution_count": 84,
   "id": "4f1a5ea0",
   "metadata": {},
   "outputs": [
    {
     "name": "stdout",
     "output_type": "stream",
     "text": [
      "60\n",
      "         시도  시군구 행정구역명  법정동  행정구역분류(개정_8자리)       법정동코드  중심점_x  중심점_y\n",
      "1069  부산광역시  기장군   일광읍  삼성리        21510111  2671025921    NaN    NaN\n",
      "1070  부산광역시  기장군   일광읍  이천리        21510111  2671025922    NaN    NaN\n",
      "1071  부산광역시  기장군   일광읍   학리        21510111  2671025923    NaN    NaN\n",
      "1072  부산광역시  기장군   일광읍  동백리        21510111  2671025924    NaN    NaN\n",
      "1073  부산광역시  기장군   일광읍  문중리        21510111  2671025925    NaN    NaN\n"
     ]
    }
   ],
   "source": [
    "df_null = df[df['중심점_x'].isnull()]\n",
    "print(len(df_null))\n",
    "print(df_null.iloc[:5, :])"
   ]
  },
  {
   "cell_type": "markdown",
   "id": "67551eac",
   "metadata": {},
   "source": [
    "## 2. 중심점 메꾸기"
   ]
  },
  {
   "cell_type": "code",
   "execution_count": 85,
   "id": "3dcc0116",
   "metadata": {},
   "outputs": [],
   "source": [
    "from pyproj import Transformer\n",
    "import math"
   ]
  },
  {
   "cell_type": "code",
   "execution_count": 86,
   "id": "d05e283a",
   "metadata": {},
   "outputs": [],
   "source": [
    "import googlemaps\n",
    "def load_key():\n",
    "    f = open(\"api_key.txt\", 'r')\n",
    "    line = f.readline()\n",
    "    f.close()\n",
    "    return line\n",
    "gmap = googlemaps.Client(key=load_key())"
   ]
  },
  {
   "cell_type": "code",
   "execution_count": 87,
   "id": "4828b6e6",
   "metadata": {},
   "outputs": [],
   "source": [
    "def request_location(gmap, location):\n",
    "    try:\n",
    "        result_location = gmap.geocode(location)[0]['geometry']['location']\n",
    "        return result_location['lng'], result_location['lat']\n",
    "    except: \n",
    "        print(f'{location}의 위치를 찾을 수 없습니다.')\n",
    "        return np.nan, np.nan"
   ]
  },
  {
   "cell_type": "code",
   "execution_count": 88,
   "id": "006a1203",
   "metadata": {},
   "outputs": [],
   "source": [
    "# 법정동 전체 주소 만들기\n",
    "def make_addr(row):\n",
    "    if row['법정동'][-1] == '리': \n",
    "        return f\"{row['시도']} {row['시군구']} {row['행정구역명']} {row['법정동']}\"\n",
    "    return f\"{row['시도']} {row['시군구']} {row['법정동']}\""
   ]
  },
  {
   "cell_type": "code",
   "execution_count": 89,
   "id": "fa0d5c4a",
   "metadata": {
    "scrolled": true
   },
   "outputs": [],
   "source": [
    "coor_transformer = Transformer.from_crs(\"epsg:4326\", \"epsg:5179\")\n",
    "\n",
    "for i, row in df.iterrows():\n",
    "    if math.isnan(row['중심점_x']):\n",
    "        addr = make_addr(row)\n",
    "        lng, lat = request_location(gmap, addr)\n",
    "        y, x = coor_transformer.transform(lat, lng)\n",
    "        df.loc[i, '중심점_x'] = x\n",
    "        df.loc[i, '중심점_y'] = y"
   ]
  },
  {
   "cell_type": "markdown",
   "id": "2080902e",
   "metadata": {},
   "source": [
    "널 값 확인"
   ]
  },
  {
   "cell_type": "code",
   "execution_count": 90,
   "id": "7e768994",
   "metadata": {},
   "outputs": [
    {
     "name": "stdout",
     "output_type": "stream",
     "text": [
      "0\n"
     ]
    }
   ],
   "source": [
    "df_null = df[df['중심점_x'].isnull()]\n",
    "print(len(df_null))"
   ]
  },
  {
   "cell_type": "code",
   "execution_count": 91,
   "id": "ee81c3a2",
   "metadata": {},
   "outputs": [],
   "source": [
    "df.to_csv('town.csv', index=False)"
   ]
  }
 ],
 "metadata": {
  "kernelspec": {
   "display_name": "Python 3 (ipykernel)",
   "language": "python",
   "name": "python3"
  },
  "language_info": {
   "codemirror_mode": {
    "name": "ipython",
    "version": 3
   },
   "file_extension": ".py",
   "mimetype": "text/x-python",
   "name": "python",
   "nbconvert_exporter": "python",
   "pygments_lexer": "ipython3",
   "version": "3.9.7"
  }
 },
 "nbformat": 4,
 "nbformat_minor": 5
}
